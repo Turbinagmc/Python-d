{
  "nbformat": 4,
  "nbformat_minor": 0,
  "metadata": {
    "colab": {
      "name": "tabuada for",
      "provenance": [],
      "authorship_tag": "ABX9TyOG42TZnqCdXIi/FKSOGPrH",
      "include_colab_link": true
    },
    "kernelspec": {
      "name": "python3",
      "display_name": "Python 3"
    },
    "language_info": {
      "name": "python"
    }
  },
  "cells": [
    {
      "cell_type": "markdown",
      "metadata": {
        "id": "view-in-github",
        "colab_type": "text"
      },
      "source": [
        "<a href=\"https://colab.research.google.com/github/Turbinagmc/python/blob/main/tabuada_for.ipynb\" target=\"_parent\"><img src=\"https://colab.research.google.com/assets/colab-badge.svg\" alt=\"Open In Colab\"/></a>"
      ]
    },
    {
      "cell_type": "code",
      "metadata": {
        "id": "wNaQB_UZx01w"
      },
      "source": [
        "tabuada=int(input(\"Digite um número para exibir a tabuada: \"))\n",
        "print(\"Tabuada do número \", tabuada)\n",
        "for valor in range(1,11,1):\n",
        "    print(str(tabuada) + \" x \" + str(valor) + \" = \" + str((tabuada*valor)))\n",
        "    "
      ],
      "execution_count": null,
      "outputs": []
    }
  ]
}