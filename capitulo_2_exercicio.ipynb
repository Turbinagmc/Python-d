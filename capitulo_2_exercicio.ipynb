{
  "nbformat": 4,
  "nbformat_minor": 0,
  "metadata": {
    "colab": {
      "name": "capitulo 2 exercicio",
      "provenance": [],
      "authorship_tag": "ABX9TyPKFzsHPOc21VU8Qg+y5Z7w",
      "include_colab_link": true
    },
    "kernelspec": {
      "name": "python3",
      "display_name": "Python 3"
    },
    "language_info": {
      "name": "python"
    }
  },
  "cells": [
    {
      "cell_type": "markdown",
      "metadata": {
        "id": "view-in-github",
        "colab_type": "text"
      },
      "source": [
        "<a href=\"https://colab.research.google.com/github/Turbinagmc/python/blob/main/capitulo_2_exercicio.ipynb\" target=\"_parent\"><img src=\"https://colab.research.google.com/assets/colab-badge.svg\" alt=\"Open In Colab\"/></a>"
      ]
    },
    {
      "cell_type": "code",
      "metadata": {
        "colab": {
          "base_uri": "https://localhost:8080/"
        },
        "id": "wNaQB_UZx01w",
        "outputId": "91531394-019b-4db3-8348-e6b7c0f94bba"
      },
      "source": [
        "nivel=input(\"Digite o nível de acesso: \").upper()\n",
        "if nivel==\"ADM\" or nivel==\"USR\":\n",
        "    genero=input(\"Digite o seu gênero: \").upper()\n",
        "    if nivel==\"ADM\":\n",
        "        if genero==\"FEMININO\":\n",
        "            print(\"Olá administradora\")\n",
        "        else:\n",
        "            genero==\"MASCULINO\"\n",
        "            print(\"Olá administrador\")\n",
        "            \n",
        "    else:\n",
        "        if genero==\"FEMININO\":\n",
        "            print(\"Olá usuária\")\n",
        "        else:\n",
        "            print(\"Olá usuário\")\n",
        "elif nivel==\"GUEST\":\n",
        "    print(\"Olá visitante\")\n",
        "else:\n",
        "    print(\"Olá desconhecido(a)\")\n",
        "\n"
      ],
      "execution_count": 8,
      "outputs": [
        {
          "output_type": "stream",
          "text": [
            "Digite o nível de acesso: guest\n",
            "Olá visitante\n"
          ],
          "name": "stdout"
        }
      ]
    }
  ]
}