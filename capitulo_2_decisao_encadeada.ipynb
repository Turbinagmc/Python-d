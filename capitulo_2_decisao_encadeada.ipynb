{
  "nbformat": 4,
  "nbformat_minor": 0,
  "metadata": {
    "colab": {
      "name": "capitulo 2 decisao encadeada",
      "provenance": [],
      "authorship_tag": "ABX9TyNOfwH97Jtea/aGJT/QpqXe",
      "include_colab_link": true
    },
    "kernelspec": {
      "name": "python3",
      "display_name": "Python 3"
    },
    "language_info": {
      "name": "python"
    }
  },
  "cells": [
    {
      "cell_type": "markdown",
      "metadata": {
        "id": "view-in-github",
        "colab_type": "text"
      },
      "source": [
        "<a href=\"https://colab.research.google.com/github/Turbinagmc/python/blob/main/capitulo_2_decisao_encadeada.ipynb\" target=\"_parent\"><img src=\"https://colab.research.google.com/assets/colab-badge.svg\" alt=\"Open In Colab\"/></a>"
      ]
    },
    {
      "cell_type": "code",
      "metadata": {
        "colab": {
          "base_uri": "https://localhost:8080/"
        },
        "id": "wNaQB_UZx01w",
        "outputId": "2858f6df-279e-4e10-ab96-cb5fec85fdef"
      },
      "source": [
        "nome=input(\"Digite o nome: \")\n",
        "idade=int(input(\"Digite a idade: \"))\n",
        "doenca_infectocontagiosa=input(\"Suspeita de doença infectocontagiosa?\").upper()\n",
        "if idade >= 65:\n",
        "    print(\"Paciente COM prioridade\")\n",
        "    if doenca_infectocontagiosa==\"SIM\":\n",
        "        print(\"Encaminhe o paciente para sala AMARELA\")\n",
        "    elif doenca_infectocontagiosa==\"NAO\":\n",
        "        print(\"Encaminhe o paciente para sala BRANCA\")\n",
        "    else:\n",
        "        print(\"Responda a suspeita de doença infectocontagiosa com SIM ou NAO\")\n",
        "else:\n",
        "    print(\"Paciente SEM prioridade\")\n",
        "    if doenca_infectocontagiosa==\"SIM\":\n",
        "        print(\"Encaminhe o paciente para sala AMARELA\")\n",
        "    elif doenca_infectocontagiosa==\"NAO\":\n",
        "        print(\"Encaminhe o paciente para sala BRANCA\")\n",
        "    else:\n",
        "        print(\"Responda a suspeita de doença infectocontagiosa com SIM ou NAO\")\n",
        "        \n"
      ],
      "execution_count": 2,
      "outputs": [
        {
          "output_type": "stream",
          "text": [
            "Digite o nome: sss\n",
            "Digite a idade: 23\n",
            "Suspeita de doença infecto-contagiosa?sim\n",
            "O paciente sss deve ser direcionado para sala de espera reservada.\n"
          ],
          "name": "stdout"
        }
      ]
    }
  ]
}