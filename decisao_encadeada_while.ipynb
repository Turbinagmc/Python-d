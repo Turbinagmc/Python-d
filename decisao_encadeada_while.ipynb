{
  "nbformat": 4,
  "nbformat_minor": 0,
  "metadata": {
    "colab": {
      "name": "decisao encadeada while ",
      "provenance": [],
      "authorship_tag": "ABX9TyPrLifL4qcg+fAFrm1z8GPN",
      "include_colab_link": true
    },
    "kernelspec": {
      "name": "python3",
      "display_name": "Python 3"
    },
    "language_info": {
      "name": "python"
    }
  },
  "cells": [
    {
      "cell_type": "markdown",
      "metadata": {
        "id": "view-in-github",
        "colab_type": "text"
      },
      "source": [
        "<a href=\"https://colab.research.google.com/github/Turbinagmc/python/blob/main/decisao_encadeada_while.ipynb\" target=\"_parent\"><img src=\"https://colab.research.google.com/assets/colab-badge.svg\" alt=\"Open In Colab\"/></a>"
      ]
    },
    {
      "cell_type": "code",
      "metadata": {
        "id": "wNaQB_UZx01w"
      },
      "source": [
        "resposta=\"SIM\"\n",
        "while resposta==\"SIM\":\n",
        "    nivel=input(\"Digite o nível de acesso: \").upper()\n",
        "    if nivel==\"ADM\" or nivel==\"USR\":\n",
        "        genero=input(\"Digite o seu gênero: \").upper()\n",
        "        if nivel==\"ADM\":\n",
        "            if genero==\"FEMININO\":\n",
        "                print(\"Olá administradora\")\n",
        "            else:\n",
        "                print(\"Olá administrador\")\n",
        "        else:\n",
        "            if genero==\"FEMININO\":\n",
        "                print(\"Olá usuária\")\n",
        "            else:\n",
        "                print(\"Olá usuario\")\n",
        "    elif nivel==\"GUEST\":\n",
        "        print(\"Olá visitante\")\n",
        "    else:\n",
        "        print(\"Olá desconhecido(a)\")\n",
        "    resposta=input(\"Digite SIM para continuar: \").upper()\n",
        "    "
      ],
      "execution_count": null,
      "outputs": []
    }
  ]
}