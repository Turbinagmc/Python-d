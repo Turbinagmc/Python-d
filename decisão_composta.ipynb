{
  "nbformat": 4,
  "nbformat_minor": 0,
  "metadata": {
    "colab": {
      "name": "decisão composta",
      "provenance": [],
      "authorship_tag": "ABX9TyMZZPVXN4YzHGK6/ID2sJ0c",
      "include_colab_link": true
    },
    "kernelspec": {
      "name": "python3",
      "display_name": "Python 3"
    },
    "language_info": {
      "name": "python"
    }
  },
  "cells": [
    {
      "cell_type": "markdown",
      "metadata": {
        "id": "view-in-github",
        "colab_type": "text"
      },
      "source": [
        "<a href=\"https://colab.research.google.com/github/Turbinagmc/python/blob/main/decis%C3%A3o_composta.ipynb\" target=\"_parent\"><img src=\"https://colab.research.google.com/assets/colab-badge.svg\" alt=\"Open In Colab\"/></a>"
      ]
    },
    {
      "cell_type": "code",
      "metadata": {
        "id": "bFjpsaTMndNu"
      },
      "source": [
        "nome=input(\"Digite o nome: \")\n",
        "idade=int(input(\"Digite a idade: \"))\n",
        "if idade>=65:\n",
        "    print(\"O paciente \" + nome + \" POSSUI atendimento prioritário!\")\n",
        "else:\n",
        "    print(\"O paciente \" + nome + \" NÃO possui atendimento prioritário!\")"
      ],
      "execution_count": null,
      "outputs": []
    }
  ]
}