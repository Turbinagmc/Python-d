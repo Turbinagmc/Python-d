{
  "nbformat": 4,
  "nbformat_minor": 0,
  "metadata": {
    "colab": {
      "name": "decisão composta 2",
      "provenance": [],
      "authorship_tag": "ABX9TyP2Y0MUCsxCJKax1AyCM6RT",
      "include_colab_link": true
    },
    "kernelspec": {
      "name": "python3",
      "display_name": "Python 3"
    },
    "language_info": {
      "name": "python"
    }
  },
  "cells": [
    {
      "cell_type": "markdown",
      "metadata": {
        "id": "view-in-github",
        "colab_type": "text"
      },
      "source": [
        "<a href=\"https://colab.research.google.com/github/Turbinagmc/python/blob/main/decis%C3%A3o_composta_2.ipynb\" target=\"_parent\"><img src=\"https://colab.research.google.com/assets/colab-badge.svg\" alt=\"Open In Colab\"/></a>"
      ]
    },
    {
      "cell_type": "code",
      "metadata": {
        "id": "bFjpsaTMndNu"
      },
      "source": [
        "nome=input(\"Digite o nome: \")\n",
        "idade=int(input(\"Digite a idade: \"))\n",
        "doenca_infectocontagiosa=input(\"Suspeita de doença infecto-contagiosa?\").upper()\n",
        "if idade>=65 and doenca_infectocontagiosa==\"SIM\":\n",
        "    print(\"O paciente será direcionado para sala AMARELA - COM prioridade\")\n",
        "elif idade < 65 and doenca_infectocontagiosa == \"SIM\":\n",
        "    print(\"O paciente será direcionado para sala AMARELA - SEM prioridade\")\n",
        "elif idade >= 65 and doenca_infectocontagiosa == \"NAO\":\n",
        "    print(\"O paciente será direcionado para sala BRANCA - COM prioridade\")\n",
        "elif idade < 65 and doenca_infectocontagiosa == \"NAO\":\n",
        "    print(\"O paciente será direcionado para sala BRANCA - SEM prioridade\")\n",
        "else:\n",
        "    print(\"Responda a suspeita de doença infectocontagiosa com SIM ou NAO\")"
      ],
      "execution_count": null,
      "outputs": []
    }
  ]
}