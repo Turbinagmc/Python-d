{
  "nbformat": 4,
  "nbformat_minor": 0,
  "metadata": {
    "colab": {
      "name": "capitulo 2 decisaoencadeada2",
      "provenance": [],
      "authorship_tag": "ABX9TyNgV+jVdbdpdQOVDngU6U6t",
      "include_colab_link": true
    },
    "kernelspec": {
      "name": "python3",
      "display_name": "Python 3"
    },
    "language_info": {
      "name": "python"
    }
  },
  "cells": [
    {
      "cell_type": "markdown",
      "metadata": {
        "id": "view-in-github",
        "colab_type": "text"
      },
      "source": [
        "<a href=\"https://colab.research.google.com/github/Turbinagmc/python/blob/main/capitulo_2_decisaoencadeada2.ipynb\" target=\"_parent\"><img src=\"https://colab.research.google.com/assets/colab-badge.svg\" alt=\"Open In Colab\"/></a>"
      ]
    },
    {
      "cell_type": "code",
      "metadata": {
        "colab": {
          "base_uri": "https://localhost:8080/"
        },
        "id": "wNaQB_UZx01w",
        "outputId": "a338e273-4478-418e-932d-e1f3d9878072"
      },
      "source": [
        "nome=input(\"Digite o nome: \")\n",
        "idade=int(input(\"Digite a idade: \"))\n",
        "doenca_infectocontagiosa=input(\"Suspeita de doença infectocontagiosa? \").upper()\n",
        "\n",
        "# PRIMEIRO PROBLEMA A SER RESOLVIDO\n",
        "if doenca_infectocontagiosa==\"SIM\":\n",
        "    print(\"Encaminhe o paciente para sala AMARELA\")\n",
        "elif doenca_infectocontagiosa==\"NAO\":\n",
        "    print(\"Encaminhe o paciente para sala BRANCA\")\n",
        "else:\n",
        "    print(\"Responda a suspeita de doença infectocontagiosa com SIM ou NAO\")\n",
        "\n",
        "# SEGUNDO PROBLEMA A SER RESOLVIDO\n",
        "if idade >= 65:\n",
        "    print(\"Paciente COM prioridade\")\n",
        "else:\n",
        "    genero=input(\"Digite o gênero do paciente: \").upper()\n",
        "    if genero==\"FEMININO\" and idade>10:\n",
        "        gravidez=input(\"A paciente está grávida? \").upper()\n",
        "        if gravidez==\"SIM\":\n",
        "            print(\"Paciente COM prioridade\")\n",
        "        else:\n",
        "            print(\"Paciente SEM prioridade\")\n",
        "    else:\n",
        "        print(\"Paciente SEM prioridade\")\n",
        "\n"
      ],
      "execution_count": 3,
      "outputs": [
        {
          "output_type": "stream",
          "text": [
            "Digite o nome: gabriel\n",
            "Digite a idade: 64\n",
            "Suspeita de doença infectocontagiosa? sim\n",
            "Encaminhe o paciente para sala AMARELA\n",
            "Digite o gênero do paciente: feminino\n",
            "A paciente está grávida? sim\n",
            "Paciente COM prioridade\n"
          ],
          "name": "stdout"
        }
      ]
    }
  ]
}